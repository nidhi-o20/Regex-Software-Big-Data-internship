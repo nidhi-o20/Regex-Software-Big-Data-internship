{
  "nbformat": 4,
  "nbformat_minor": 0,
  "metadata": {
    "colab": {
      "name": "RegexSoftware_Task1.ipynb",
      "provenance": [],
      "collapsed_sections": [],
      "authorship_tag": "ABX9TyMFl5YWMK6GLo5JQG3WiVJW",
      "include_colab_link": true
    },
    "kernelspec": {
      "name": "python3",
      "display_name": "Python 3"
    },
    "language_info": {
      "name": "python"
    }
  },
  "cells": [
    {
      "cell_type": "markdown",
      "metadata": {
        "id": "view-in-github",
        "colab_type": "text"
      },
      "source": [
        "<a href=\"https://colab.research.google.com/github/nidhi-o20/Regex-Software-Big-Data-internship/blob/main/RegexSoftware_Task1.ipynb\" target=\"_parent\"><img src=\"https://colab.research.google.com/assets/colab-badge.svg\" alt=\"Open In Colab\"/></a>"
      ]
    },
    {
      "cell_type": "markdown",
      "metadata": {
        "id": "hAYzpn1D6hTz"
      },
      "source": [
        "# **#TASK 1**\n",
        "# **Registration ID: SIRSS2256**\n",
        "# **Name: Nidhi Thakkar**"
      ]
    },
    {
      "cell_type": "markdown",
      "metadata": {
        "id": "NRIGgzDmGHU2"
      },
      "source": [
        "##**Q1**"
      ]
    },
    {
      "cell_type": "markdown",
      "metadata": {
        "id": "RurU4uYkoFdC"
      },
      "source": [
        "\n",
        "\n",
        "```\n",
        "5 5 5 5 5\n",
        "5 5 5 5\n",
        "5 5 5\n",
        "5 5\n",
        "5\n",
        "```\n",
        "\n"
      ]
    },
    {
      "cell_type": "code",
      "metadata": {
        "id": "HhS5_bd3oXNT",
        "colab": {
          "base_uri": "https://localhost:8080/"
        },
        "outputId": "fc123883-92c3-4b69-fe16-f7758358533e"
      },
      "source": [
        "n=int(input())\n",
        "for i in range(n,0,-1):\n",
        "  for j in range(0,i):\n",
        "    print(\"5\", end=\" \")\n",
        "  print()\n"
      ],
      "execution_count": null,
      "outputs": [
        {
          "output_type": "stream",
          "text": [
            "5\n",
            "5 5 5 5 5 \n",
            "5 5 5 5 \n",
            "5 5 5 \n",
            "5 5 \n",
            "5 \n"
          ],
          "name": "stdout"
        }
      ]
    },
    {
      "cell_type": "markdown",
      "metadata": {
        "id": "IsfcjqaDGNmg"
      },
      "source": [
        "##**Q2**"
      ]
    },
    {
      "cell_type": "markdown",
      "metadata": {
        "id": "k5GQGi2nr2in"
      },
      "source": [
        "\n",
        "\n",
        "```\n",
        "0 1 2 3 4 5\n",
        "0 1 2 3 4\n",
        "0 1 2 3\n",
        "0 1 2\n",
        "0 1\n",
        "```\n",
        "\n"
      ]
    },
    {
      "cell_type": "code",
      "metadata": {
        "colab": {
          "base_uri": "https://localhost:8080/"
        },
        "id": "CnUzDdZwtB-D",
        "outputId": "873d65d9-8908-421f-912d-bbd4eb67ee67"
      },
      "source": [
        "n=int(input())\n",
        "for i in range(n+1,0,-1):\n",
        "  for j in range(0,i):\n",
        "    print(j, end=\" \")\n",
        "  if(i==n-3):\n",
        "      break\n",
        "  print()\n"
      ],
      "execution_count": null,
      "outputs": [
        {
          "output_type": "stream",
          "text": [
            "5\n",
            "0 1 2 3 4 5 \n",
            "0 1 2 3 4 \n",
            "0 1 2 3 \n",
            "0 1 2 \n",
            "0 1 "
          ],
          "name": "stdout"
        }
      ]
    },
    {
      "cell_type": "markdown",
      "metadata": {
        "id": "CmVxFbmJGTgl"
      },
      "source": [
        "##**Q3**"
      ]
    },
    {
      "cell_type": "markdown",
      "metadata": {
        "id": "7yvGQAU_yhF0"
      },
      "source": [
        "\n",
        "\n",
        "```\n",
        "1\n",
        "3 3\n",
        "5 5 5\n",
        "7 7 7 7\n",
        "9 9 9 9 9\n",
        "\n",
        "```\n",
        "\n"
      ]
    },
    {
      "cell_type": "code",
      "metadata": {
        "colab": {
          "base_uri": "https://localhost:8080/"
        },
        "id": "93zUJlK5yoJc",
        "outputId": "128884c9-290b-42c8-b551-7272a1f7e9ea"
      },
      "source": [
        "n=int(input())\n",
        "for i in range(0,n+1):\n",
        "  for j in range(0,i):\n",
        "    print(2*i-1, end=\" \")\n",
        "  print()\n"
      ],
      "execution_count": null,
      "outputs": [
        {
          "output_type": "stream",
          "text": [
            "5\n",
            "\n",
            "1 \n",
            "3 3 \n",
            "5 5 5 \n",
            "7 7 7 7 \n",
            "9 9 9 9 9 \n"
          ],
          "name": "stdout"
        }
      ]
    },
    {
      "cell_type": "markdown",
      "metadata": {
        "id": "OXvbqlNgGY3g"
      },
      "source": [
        "##**Q4**"
      ]
    },
    {
      "cell_type": "markdown",
      "metadata": {
        "id": "R7ACBVo3zCdH"
      },
      "source": [
        "\n",
        "\n",
        "```\n",
        "1\n",
        "2 1\n",
        "3 2 1\n",
        "4 3 2 1\n",
        "5 4 3 2 1\n",
        "```\n",
        "\n"
      ]
    },
    {
      "cell_type": "code",
      "metadata": {
        "colab": {
          "base_uri": "https://localhost:8080/"
        },
        "id": "wVnMR-wfzJOU",
        "outputId": "3b13f03f-5bf3-4c94-b394-f009f7ce2e83"
      },
      "source": [
        "n=int(input())\n",
        "for i in range(0,n+1):\n",
        "  for j in range(i,0,-1):\n",
        "    print(j, end=\" \")\n",
        "  print()\n"
      ],
      "execution_count": null,
      "outputs": [
        {
          "output_type": "stream",
          "text": [
            "5\n",
            "\n",
            "1 \n",
            "2 1 \n",
            "3 2 1 \n",
            "4 3 2 1 \n",
            "5 4 3 2 1 \n"
          ],
          "name": "stdout"
        }
      ]
    },
    {
      "cell_type": "markdown",
      "metadata": {
        "id": "C05cByW9GfDS"
      },
      "source": [
        "##**Q5**"
      ]
    },
    {
      "cell_type": "markdown",
      "metadata": {
        "id": "oJT_alPGzrUd"
      },
      "source": [
        "\n",
        "\n",
        "```\n",
        "1\n",
        "3 2\n",
        "6 5 4\n",
        "10 9 8 7\n",
        "```\n",
        "\n"
      ]
    },
    {
      "cell_type": "code",
      "metadata": {
        "colab": {
          "base_uri": "https://localhost:8080/"
        },
        "id": "q15LWCvkzuZl",
        "outputId": "d2c4f44d-1780-4c4c-c301-77836d4416d9"
      },
      "source": [
        "start = 1\n",
        "stop = 2\n",
        "current_num = stop\n",
        "for row in range(2, 6):\n",
        "    for col in range(start, stop):\n",
        "        current_num -= 1\n",
        "        print(current_num, end=' ')\n",
        "    print(\"\")\n",
        "    start = stop\n",
        "    stop += row\n",
        "    current_num = stop"
      ],
      "execution_count": null,
      "outputs": [
        {
          "output_type": "stream",
          "text": [
            "1 \n",
            "3 2 \n",
            "6 5 4 \n",
            "10 9 8 7 \n"
          ],
          "name": "stdout"
        }
      ]
    },
    {
      "cell_type": "markdown",
      "metadata": {
        "id": "epHor5r_I0NY"
      },
      "source": [
        "##**Q6**"
      ]
    },
    {
      "cell_type": "markdown",
      "metadata": {
        "id": "TO5E5QKlI55C"
      },
      "source": [
        "\n",
        "\n",
        "```\n",
        "1\n",
        "1 1\n",
        "1 2 1\n",
        "1 3 3 1\n",
        "1 4 6 4 1\n",
        "1 5 10 10 5 1\n",
        "1 6 15 20 15 6 1\n",
        "```\n",
        "\n"
      ]
    },
    {
      "cell_type": "code",
      "metadata": {
        "id": "Zo3ukLUiJBiS",
        "colab": {
          "base_uri": "https://localhost:8080/"
        },
        "outputId": "42a50e20-b250-4fa8-cc6b-45e77a193dda"
      },
      "source": [
        "def pascal(row,col):\n",
        "  if (col==1 or(row==col)):\n",
        "    return 1\n",
        "  upLeft_element=pascal(row-1,col-1)\n",
        "  up_element=pascal(row-1,col)\n",
        "  return upLeft_element+up_element\n",
        "\n",
        "n=int(input())\n",
        "count=1\n",
        "for i in range(0,n+1):\n",
        "  for j in range(1,i+1):\n",
        "    print(pascal(i,j), end=\" \")\n",
        "  print()\n"
      ],
      "execution_count": null,
      "outputs": [
        {
          "output_type": "stream",
          "text": [
            "7\n",
            "\n",
            "1 \n",
            "1 1 \n",
            "1 2 1 \n",
            "1 3 3 1 \n",
            "1 4 6 4 1 \n",
            "1 5 10 10 5 1 \n",
            "1 6 15 20 15 6 1 \n"
          ],
          "name": "stdout"
        }
      ]
    },
    {
      "cell_type": "markdown",
      "metadata": {
        "id": "p8CIg1LttBuE"
      },
      "source": [
        "##**Q7**"
      ]
    },
    {
      "cell_type": "markdown",
      "metadata": {
        "id": "XZHhIwAAmDGj"
      },
      "source": [
        "\n",
        "\n",
        "```\n",
        "1 2 3 4 5\n",
        "2 2 3 4 5\n",
        "3 3 3 4 5\n",
        "4 4 4 4 5\n",
        "5 5 5 5 5\n",
        "```\n",
        "\n"
      ]
    },
    {
      "cell_type": "code",
      "metadata": {
        "colab": {
          "base_uri": "https://localhost:8080/"
        },
        "id": "UvDb6swZmFVL",
        "outputId": "1cd7d70c-694a-4b01-e73b-c3e39d5f0297"
      },
      "source": [
        "n=int(input())\n",
        "for i in range(1,n+1):\n",
        "    for j in range(1,n+1):\n",
        "        if j <= i:\n",
        "            print(i, end=' ')\n",
        "        else:\n",
        "            print(j, end=' ')\n",
        "    print()"
      ],
      "execution_count": null,
      "outputs": [
        {
          "output_type": "stream",
          "text": [
            "5\n",
            "1 2 3 4 5 \n",
            "2 2 3 4 5 \n",
            "3 3 3 4 5 \n",
            "4 4 4 4 5 \n",
            "5 5 5 5 5 \n"
          ],
          "name": "stdout"
        }
      ]
    },
    {
      "cell_type": "markdown",
      "metadata": {
        "id": "lRkwWaOitdvl"
      },
      "source": [
        "##**Q8**"
      ]
    },
    {
      "cell_type": "markdown",
      "metadata": {
        "id": "TLZWmdzvtbD-"
      },
      "source": [
        "\n",
        "\n",
        "```\n",
        "1\n",
        "2 4\n",
        "3 6 9\n",
        "4 8 12 16\n",
        "5 10 15 20 25\n",
        "6 12 18 24 30 36\n",
        "7 14 21 28 35 42 49\n",
        "8 16 24 32 40 48 56 64\n",
        "```\n",
        "\n"
      ]
    },
    {
      "cell_type": "code",
      "metadata": {
        "colab": {
          "base_uri": "https://localhost:8080/"
        },
        "id": "EGtpd8qpmx_0",
        "outputId": "faeb2361-55ef-496a-a6fc-d13b58ae6eb2"
      },
      "source": [
        "n=int(input())\n",
        "for i in range(1, n + 1):\n",
        "    for j in range(1, i + 1):\n",
        "        print(i * j, end='  ')\n",
        "    print()"
      ],
      "execution_count": null,
      "outputs": [
        {
          "output_type": "stream",
          "text": [
            "5\n",
            "1  \n",
            "2  4  \n",
            "3  6  9  \n",
            "4  8  12  16  \n",
            "5  10  15  20  25  \n"
          ],
          "name": "stdout"
        }
      ]
    },
    {
      "cell_type": "markdown",
      "metadata": {
        "id": "KKDvFRLwtjpJ"
      },
      "source": [
        "##**Q9**"
      ]
    },
    {
      "cell_type": "markdown",
      "metadata": {
        "id": "Kjn6OiMgEmbw"
      },
      "source": [
        "\n",
        "\n",
        "```\n",
        "* * * * * *\n",
        " * * * * *\n",
        "  * * * *\n",
        "   * * *\n",
        "    * *\n",
        "     *\n",
        "```\n",
        "\n"
      ]
    },
    {
      "cell_type": "code",
      "metadata": {
        "colab": {
          "base_uri": "https://localhost:8080/"
        },
        "id": "YyZfjEy2Ey8x",
        "outputId": "0487e911-653a-46e2-9bef-f2deac9c1cc0"
      },
      "source": [
        "n=int(input())\n",
        "space = 2 * n - 2\n",
        "for i in reversed(range(0, n)):\n",
        "    for j in (range(0, space)):\n",
        "        print(end=\" \")\n",
        "    space += 1\n",
        "    for j in (range(0, i + 1)):\n",
        "        print(\"* \", end=' ')\n",
        "    print(\" \")"
      ],
      "execution_count": null,
      "outputs": [
        {
          "output_type": "stream",
          "text": [
            "5\n",
            "        *  *  *  *  *   \n",
            "         *  *  *  *   \n",
            "          *  *  *   \n",
            "           *  *   \n",
            "            *   \n"
          ],
          "name": "stdout"
        }
      ]
    },
    {
      "cell_type": "markdown",
      "metadata": {
        "id": "gJSiDYNltqM4"
      },
      "source": [
        "##**Q10**"
      ]
    },
    {
      "cell_type": "markdown",
      "metadata": {
        "id": "ZM1J7MSO4YLw"
      },
      "source": [
        "\n",
        "\n",
        "```\n",
        "        *   \n",
        "       *  *   \n",
        "      *  *  *   \n",
        "     *  *  *  *   \n",
        "    *  *  *  *  *   \n",
        "```\n",
        "\n"
      ]
    },
    {
      "cell_type": "code",
      "metadata": {
        "colab": {
          "base_uri": "https://localhost:8080/"
        },
        "id": "r6aaCAE94vgn",
        "outputId": "988cfcc1-fee4-4c6c-baa8-b28069fc857f"
      },
      "source": [
        "n=int(input())\n",
        "space = 2 * n - 2\n",
        "for i in range(0, n):\n",
        "    for j in range(0, space):\n",
        "        print(end=\" \")\n",
        "    space -= 1\n",
        "    for j in range(0, i + 1):\n",
        "        print(\"* \", end=' ')\n",
        "    print(\" \")"
      ],
      "execution_count": null,
      "outputs": [
        {
          "output_type": "stream",
          "text": [
            "5\n",
            "        *   \n",
            "       *  *   \n",
            "      *  *  *   \n",
            "     *  *  *  *   \n",
            "    *  *  *  *  *   \n"
          ],
          "name": "stdout"
        }
      ]
    },
    {
      "cell_type": "markdown",
      "metadata": {
        "id": "OV1dyPEcNxRw"
      },
      "source": [
        "##**Q11**"
      ]
    },
    {
      "cell_type": "markdown",
      "metadata": {
        "id": "5LjPhmMI5HZH"
      },
      "source": [
        "\n",
        "\n",
        "```\n",
        "*\n",
        "* *\n",
        "* * *\n",
        "* * * *\n",
        "* * * * *\n",
        "* * * * * *\n",
        "\n",
        "* * * * * *\n",
        "* * * * *\n",
        "* * * *\n",
        "* * *\n",
        "* *\n",
        "*\n",
        "```\n",
        "\n"
      ]
    },
    {
      "cell_type": "code",
      "metadata": {
        "colab": {
          "base_uri": "https://localhost:8080/"
        },
        "id": "cfgKYcncOTSa",
        "outputId": "b39dd01d-70fb-44b5-8685-3bb2ef028422"
      },
      "source": [
        "n=int(input())\n",
        "for i in range(0,n+1):\n",
        "  for j in range(0,i):\n",
        "    print(\"*\", end=\" \")\n",
        "  print()\n",
        "print()\n",
        "for i in range(n,0,-1):\n",
        "  for j in range(0,i):\n",
        "    print(\"*\", end=\" \")\n",
        "  print()\n"
      ],
      "execution_count": null,
      "outputs": [
        {
          "output_type": "stream",
          "text": [
            "6\n",
            "\n",
            "* \n",
            "* * \n",
            "* * * \n",
            "* * * * \n",
            "* * * * * \n",
            "* * * * * * \n",
            "\n",
            "* * * * * * \n",
            "* * * * * \n",
            "* * * * \n",
            "* * * \n",
            "* * \n",
            "* \n"
          ],
          "name": "stdout"
        }
      ]
    },
    {
      "cell_type": "markdown",
      "metadata": {
        "id": "jfnunY6iOozp"
      },
      "source": [
        "##**Q12**"
      ]
    },
    {
      "cell_type": "markdown",
      "metadata": {
        "id": "szPJYSoEOzLR"
      },
      "source": [
        "\n",
        "\n",
        "```\n",
        "*\n",
        "* *\n",
        "* * *\n",
        "* * * *\n",
        "* * * * *\n",
        "* * * *\n",
        "* * *\n",
        "* *\n",
        "*\n",
        "```\n",
        "\n"
      ]
    },
    {
      "cell_type": "code",
      "metadata": {
        "colab": {
          "base_uri": "https://localhost:8080/"
        },
        "id": "wmTQAyvfO_z9",
        "outputId": "b655a803-9df2-431a-b480-fd80ea844b5a"
      },
      "source": [
        "n=int(input())\n",
        "for i in range(0,n):\n",
        "  for j in range(0,i+1):\n",
        "    print(\"*\", end=\" \")\n",
        "  print()\n",
        "for i in range(n+1,0,-1):\n",
        "  for j in range(0,i):\n",
        "    print(\"*\", end=\" \")\n",
        "  print()\n"
      ],
      "execution_count": null,
      "outputs": [
        {
          "output_type": "stream",
          "text": [
            "6\n",
            "* \n",
            "* * \n",
            "* * * \n",
            "* * * * \n",
            "* * * * * \n",
            "* * * * * * \n",
            "* * * * * * * \n",
            "* * * * * * \n",
            "* * * * * \n",
            "* * * * \n",
            "* * * \n",
            "* * \n",
            "* \n"
          ],
          "name": "stdout"
        }
      ]
    },
    {
      "cell_type": "markdown",
      "metadata": {
        "id": "d4jc5722t55n"
      },
      "source": [
        "##**Q13**"
      ]
    },
    {
      "cell_type": "markdown",
      "metadata": {
        "id": "3TacV5FujCvz"
      },
      "source": [
        "\n",
        "\n",
        "```\n",
        "        *\n",
        "      * *\n",
        "    * * *\n",
        "  * * * *\n",
        "* * * * *\n",
        "  * * * *\n",
        "    * * *\n",
        "      * *\n",
        "        *\n",
        "```\n",
        "\n"
      ]
    },
    {
      "cell_type": "code",
      "metadata": {
        "colab": {
          "base_uri": "https://localhost:8080/"
        },
        "id": "oEX7yDLOj6SA",
        "outputId": "90a36265-9aab-4400-b095-8de0fe5938e8"
      },
      "source": [
        "n = int(input())\n",
        "i = 1\n",
        "while i <= n:\n",
        "    j = i\n",
        "    while j < n:\n",
        "        # display space\n",
        "        print(' ', end=' ')\n",
        "        j += 1\n",
        "    k = 1\n",
        "    while k <= i:\n",
        "        print('*', end=' ')\n",
        "        k += 1\n",
        "    print()\n",
        "    i += 1\n",
        "\n",
        "i = n\n",
        "while i >= 1:\n",
        "    j = i\n",
        "    while j <= n:\n",
        "        print(' ', end=' ')\n",
        "        j += 1\n",
        "    k = 1\n",
        "    while k < i:\n",
        "        print('*', end=' ')\n",
        "        k += 1\n",
        "    print('')\n",
        "    i -= 1"
      ],
      "execution_count": null,
      "outputs": [
        {
          "output_type": "stream",
          "text": [
            "6\n",
            "          * \n",
            "        * * \n",
            "      * * * \n",
            "    * * * * \n",
            "  * * * * * \n",
            "* * * * * * \n",
            "  * * * * * \n",
            "    * * * * \n",
            "      * * * \n",
            "        * * \n",
            "          * \n",
            "            \n"
          ],
          "name": "stdout"
        }
      ]
    },
    {
      "cell_type": "markdown",
      "metadata": {
        "id": "u5SbLvO5uFly"
      },
      "source": [
        "##**Q14**"
      ]
    },
    {
      "cell_type": "markdown",
      "metadata": {
        "id": "YztMoNfik2Jh"
      },
      "source": [
        "\n",
        "\n",
        "```\n",
        "* * * * *\n",
        " * * * *\n",
        "  * * *\n",
        "   * *\n",
        "    *\n",
        "    *\n",
        "   * *\n",
        "  * * *\n",
        " * * * *\n",
        "* * * * *\n",
        "```\n",
        "\n"
      ]
    },
    {
      "cell_type": "code",
      "metadata": {
        "colab": {
          "base_uri": "https://localhost:8080/"
        },
        "id": "gfj9bjyelAMR",
        "outputId": "7423cd7a-3adb-448f-89ae-03395bb5c697"
      },
      "source": [
        "n=int(input())\n",
        "i = 0\n",
        "while i <= n - 1:\n",
        "    j = 0\n",
        "    while j < i:\n",
        "        # display space\n",
        "        print('', end=' ')\n",
        "        j += 1\n",
        "    k = i\n",
        "    while k <= n - 1:\n",
        "        print('*', end=' ')\n",
        "        k += 1\n",
        "    print()\n",
        "    i += 1\n",
        "\n",
        "i = n - 1\n",
        "while i >= 0:\n",
        "    j = 0\n",
        "    while j < i:\n",
        "        print('', end=' ')\n",
        "        j += 1\n",
        "    k = i\n",
        "    while k <= n - 1:\n",
        "        print('*', end=' ')\n",
        "        k += 1\n",
        "    print('')\n",
        "    i -= 1"
      ],
      "execution_count": null,
      "outputs": [
        {
          "output_type": "stream",
          "text": [
            "5\n",
            "* * * * * \n",
            " * * * * \n",
            "  * * * \n",
            "   * * \n",
            "    * \n",
            "    * \n",
            "   * * \n",
            "  * * * \n",
            " * * * * \n",
            "* * * * * \n"
          ],
          "name": "stdout"
        }
      ]
    },
    {
      "cell_type": "markdown",
      "metadata": {
        "id": "p2ZosduQuMR5"
      },
      "source": [
        "##**Q15**"
      ]
    },
    {
      "cell_type": "markdown",
      "metadata": {
        "id": "s_Xgguq4uQWg"
      },
      "source": [
        "\n",
        "\n",
        "```\n",
        "****************\n",
        "*******__*******\n",
        "******____******\n",
        "*****______*****\n",
        "****________****\n",
        "***__________***\n",
        "**____________**\n",
        "*______________*\n",
        "```\n",
        "\n"
      ]
    },
    {
      "cell_type": "code",
      "metadata": {
        "colab": {
          "base_uri": "https://localhost:8080/"
        },
        "id": "dZVd4b-2lm-H",
        "outputId": "9c310b43-f5c2-4cb9-b45e-ba493ea3222e"
      },
      "source": [
        "n=int(input())\n",
        "print(\"*\" * n, end=\"\\n\")\n",
        "i = (n // 2) - 1\n",
        "j = 2\n",
        "while i != 0:\n",
        "    while j <= (n - 2):\n",
        "        print(\"*\" * i, end=\"\")\n",
        "        print(\"_\" * j, end=\"\")\n",
        "        print(\"*\" * i, end=\"\\n\")\n",
        "        i = i - 1\n",
        "        j = j + 2"
      ],
      "execution_count": null,
      "outputs": [
        {
          "output_type": "stream",
          "text": [
            "15\n",
            "***************\n",
            "******__******\n",
            "*****____*****\n",
            "****______****\n",
            "***________***\n",
            "**__________**\n",
            "*____________*\n"
          ],
          "name": "stdout"
        }
      ]
    }
  ]
}